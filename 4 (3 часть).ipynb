{
 "cells": [
  {
   "cell_type": "markdown",
   "id": "a99b2747",
   "metadata": {},
   "source": [
    "# Циклы"
   ]
  },
  {
   "cell_type": "markdown",
   "id": "91fe58de",
   "metadata": {},
   "source": [
    "Цикл for. Задачка на сумму"
   ]
  },
  {
   "cell_type": "code",
   "execution_count": 1,
   "id": "b79b8d20",
   "metadata": {},
   "outputs": [],
   "source": [
    "poem = '''Буря мглою небо кроет, Вихри снежные крутя; То как зверь она завоет, то заплачет как дитя.'''"
   ]
  },
  {
   "cell_type": "code",
   "execution_count": 2,
   "id": "40d3c5f1",
   "metadata": {},
   "outputs": [],
   "source": [
    "poem_length = len(poem)"
   ]
  },
  {
   "cell_type": "code",
   "execution_count": 3,
   "id": "f3e560b3",
   "metadata": {},
   "outputs": [],
   "source": [
    "male_data = [65, 45, 74, 48, 34]"
   ]
  },
  {
   "cell_type": "code",
   "execution_count": 4,
   "id": "50ee93ed",
   "metadata": {},
   "outputs": [],
   "source": [
    "female_data = [67, 45, 98, 33, 75]"
   ]
  },
  {
   "cell_type": "code",
   "execution_count": 6,
   "id": "1e702019",
   "metadata": {},
   "outputs": [
    {
     "name": "stdout",
     "output_type": "stream",
     "text": [
      "65\n",
      "67\n",
      "45\n",
      "98\n",
      "33\n",
      "75\n",
      "45\n",
      "67\n",
      "45\n",
      "98\n",
      "33\n",
      "75\n",
      "74\n",
      "67\n",
      "45\n",
      "98\n",
      "33\n",
      "75\n",
      "48\n",
      "67\n",
      "45\n",
      "98\n",
      "33\n",
      "75\n",
      "34\n",
      "67\n",
      "45\n",
      "98\n",
      "33\n",
      "75\n"
     ]
    }
   ],
   "source": [
    "for male_age in male_data:\n",
    "    print(male_age)\n",
    "    for female_age in female_data:\n",
    "        print(female_age)"
   ]
  },
  {
   "cell_type": "code",
   "execution_count": 8,
   "id": "9aaf935c",
   "metadata": {},
   "outputs": [
    {
     "name": "stdout",
     "output_type": "stream",
     "text": [
      "Возраст женщины больше на 2\n",
      "Возраст мужчины больше на 20 лет\n",
      "Возраст женщины больше на 33\n",
      "Возраст мужчины больше на 32 лет\n",
      "Возраст женщины больше на 10\n",
      "Возраст женщины больше на 22\n",
      "Возраст женщины больше на 0\n",
      "Возраст женщины больше на 53\n",
      "Возраст мужчины больше на 12 лет\n",
      "Возраст женщины больше на 30\n",
      "Возраст мужчины больше на 7 лет\n",
      "Возраст мужчины больше на 29 лет\n",
      "Возраст женщины больше на 24\n",
      "Возраст мужчины больше на 41 лет\n",
      "Возраст женщины больше на 1\n",
      "Возраст женщины больше на 19\n",
      "Возраст мужчины больше на 3 лет\n",
      "Возраст женщины больше на 50\n",
      "Возраст мужчины больше на 15 лет\n",
      "Возраст женщины больше на 27\n",
      "Возраст женщины больше на 33\n",
      "Возраст женщины больше на 11\n",
      "Возраст женщины больше на 64\n",
      "Возраст мужчины больше на 1 лет\n",
      "Возраст женщины больше на 41\n"
     ]
    }
   ],
   "source": [
    "for male_age in male_data:\n",
    "    for female_age in female_data:\n",
    "        if male_age > female_age:\n",
    "            print(f'Возраст мужчины больше на {male_age - female_age} лет')\n",
    "        else:\n",
    "            print(f'Возраст женщины больше на {female_age - male_age}')"
   ]
  },
  {
   "cell_type": "code",
   "execution_count": 10,
   "id": "500d31da",
   "metadata": {},
   "outputs": [
    {
     "name": "stdout",
     "output_type": "stream",
     "text": [
      "65\n",
      "45\n",
      "74\n",
      "48\n",
      "34\n"
     ]
    }
   ],
   "source": [
    "for index in range(len(male_data)):\n",
    "    print(male_data[index])"
   ]
  },
  {
   "cell_type": "code",
   "execution_count": 11,
   "id": "683f8b0d",
   "metadata": {},
   "outputs": [
    {
     "name": "stdout",
     "output_type": "stream",
     "text": [
      "Возаст женщины больше возраста мужчины на 2\n",
      "Возаст женщины больше возраста мужчины на 0\n",
      "Возаст женщины больше возраста мужчины на 24\n",
      "Возаст мужчины больше возраста женщины на 15\n",
      "Возаст женщины больше возраста мужчины на 41\n"
     ]
    }
   ],
   "source": [
    "for index in range(len(male_data)):\n",
    "    if male_data[index] > female_data[index]:\n",
    "        print(f'Возаст мужчины больше возраста женщины на {male_data[index] - female_data[index]}')\n",
    "    else:\n",
    "        print(f'Возаст женщины больше возраста мужчины на {female_data[index] - male_data[index]}')"
   ]
  },
  {
   "cell_type": "code",
   "execution_count": null,
   "id": "09a68abf",
   "metadata": {},
   "outputs": [],
   "source": []
  }
 ],
 "metadata": {
  "kernelspec": {
   "display_name": "Python 3 (ipykernel)",
   "language": "python",
   "name": "python3"
  },
  "language_info": {
   "codemirror_mode": {
    "name": "ipython",
    "version": 3
   },
   "file_extension": ".py",
   "mimetype": "text/x-python",
   "name": "python",
   "nbconvert_exporter": "python",
   "pygments_lexer": "ipython3",
   "version": "3.11.5"
  }
 },
 "nbformat": 4,
 "nbformat_minor": 5
}
