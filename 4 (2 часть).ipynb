{
 "cells": [
  {
   "cell_type": "markdown",
   "id": "03469971",
   "metadata": {},
   "source": [
    "# Циклы"
   ]
  },
  {
   "cell_type": "markdown",
   "id": "06a4f2de",
   "metadata": {},
   "source": [
    "Цикл for. Задачка на сумму"
   ]
  },
  {
   "cell_type": "code",
   "execution_count": 1,
   "id": "00e823af",
   "metadata": {},
   "outputs": [],
   "source": [
    "poem = '''Буря мглою небо кроет, Вихри снежые крутя; То как зверь она завоет, То заплачет как дитя.'''"
   ]
  },
  {
   "cell_type": "code",
   "execution_count": 2,
   "id": "0a28ef92",
   "metadata": {},
   "outputs": [],
   "source": [
    "poem_length = len(poem)"
   ]
  },
  {
   "cell_type": "code",
   "execution_count": 3,
   "id": "b1834394",
   "metadata": {},
   "outputs": [
    {
     "name": "stdout",
     "output_type": "stream",
     "text": [
      "Б\n",
      "у\n",
      "р\n",
      "я\n",
      " \n",
      "м\n",
      "г\n",
      "л\n",
      "о\n",
      "ю\n",
      " \n",
      "н\n",
      "е\n",
      "б\n",
      "о\n",
      " \n",
      "к\n",
      "р\n",
      "о\n",
      "е\n",
      "т\n",
      ",\n",
      " \n",
      "В\n",
      "и\n",
      "х\n",
      "р\n",
      "и\n",
      " \n",
      "с\n",
      "н\n",
      "е\n",
      "ж\n",
      "ы\n",
      "е\n",
      " \n",
      "к\n",
      "р\n",
      "у\n",
      "т\n",
      "я\n",
      ";\n",
      " \n",
      "Т\n",
      "о\n",
      " \n",
      "к\n",
      "а\n",
      "к\n",
      " \n",
      "з\n",
      "в\n",
      "е\n",
      "р\n",
      "ь\n",
      " \n",
      "о\n",
      "н\n",
      "а\n",
      " \n",
      "з\n",
      "а\n",
      "в\n",
      "о\n",
      "е\n",
      "т\n",
      ",\n",
      " \n",
      "Т\n",
      "о\n",
      " \n",
      "з\n",
      "а\n",
      "п\n",
      "л\n",
      "а\n",
      "ч\n",
      "е\n",
      "т\n",
      " \n",
      "к\n",
      "а\n",
      "к\n",
      " \n",
      "д\n",
      "и\n",
      "т\n",
      "я\n",
      ".\n"
     ]
    }
   ],
   "source": [
    "for char in poem:\n",
    "    print(char)"
   ]
  },
  {
   "cell_type": "code",
   "execution_count": 5,
   "id": "d0d706e1",
   "metadata": {},
   "outputs": [],
   "source": [
    "numbers = [1, 2, 3, 4, 5]"
   ]
  },
  {
   "cell_type": "code",
   "execution_count": 7,
   "id": "32d6c485",
   "metadata": {},
   "outputs": [
    {
     "name": "stdout",
     "output_type": "stream",
     "text": [
      "0\n",
      "1\n",
      "2\n",
      "3\n",
      "4\n",
      "5\n",
      "6\n",
      "7\n",
      "8\n",
      "9\n",
      "10\n",
      "11\n",
      "12\n",
      "13\n",
      "14\n",
      "15\n",
      "16\n",
      "17\n",
      "18\n",
      "19\n",
      "20\n",
      "21\n",
      "22\n",
      "23\n",
      "24\n",
      "25\n",
      "26\n",
      "27\n",
      "28\n",
      "29\n",
      "30\n",
      "31\n",
      "32\n",
      "33\n",
      "34\n",
      "35\n",
      "36\n",
      "37\n",
      "38\n",
      "39\n",
      "40\n",
      "41\n",
      "42\n",
      "43\n",
      "44\n",
      "45\n",
      "46\n",
      "47\n",
      "48\n",
      "49\n",
      "50\n",
      "51\n",
      "52\n",
      "53\n",
      "54\n",
      "55\n",
      "56\n",
      "57\n",
      "58\n",
      "59\n",
      "60\n",
      "61\n",
      "62\n",
      "63\n",
      "64\n",
      "65\n",
      "66\n",
      "67\n",
      "68\n",
      "69\n",
      "70\n",
      "71\n",
      "72\n",
      "73\n",
      "74\n",
      "75\n",
      "76\n",
      "77\n",
      "78\n",
      "79\n",
      "80\n",
      "81\n",
      "82\n",
      "83\n",
      "84\n",
      "85\n",
      "86\n",
      "87\n",
      "88\n",
      "89\n",
      "90\n",
      "91\n",
      "92\n",
      "93\n",
      "94\n",
      "95\n",
      "96\n",
      "97\n",
      "98\n",
      "99\n"
     ]
    }
   ],
   "source": [
    "for num in range(100) :\n",
    "    print(num)"
   ]
  },
  {
   "cell_type": "code",
   "execution_count": 14,
   "id": "f64a1a99",
   "metadata": {},
   "outputs": [],
   "source": [
    "data = [32452, 4254326, 65745, 544325, 356]"
   ]
  },
  {
   "cell_type": "code",
   "execution_count": 15,
   "id": "748556ba",
   "metadata": {},
   "outputs": [],
   "source": [
    "data_sum = 0"
   ]
  },
  {
   "cell_type": "code",
   "execution_count": 16,
   "id": "6272496b",
   "metadata": {},
   "outputs": [],
   "source": [
    "for num in data:\n",
    "    data_sum += num"
   ]
  },
  {
   "cell_type": "code",
   "execution_count": 18,
   "id": "11a51b6e",
   "metadata": {},
   "outputs": [
    {
     "data": {
      "text/plain": [
       "979440.8"
      ]
     },
     "execution_count": 18,
     "metadata": {},
     "output_type": "execute_result"
    }
   ],
   "source": [
    "data_sum / len(data)"
   ]
  },
  {
   "cell_type": "code",
   "execution_count": null,
   "id": "5f93514a",
   "metadata": {},
   "outputs": [],
   "source": []
  }
 ],
 "metadata": {
  "kernelspec": {
   "display_name": "Python 3 (ipykernel)",
   "language": "python",
   "name": "python3"
  },
  "language_info": {
   "codemirror_mode": {
    "name": "ipython",
    "version": 3
   },
   "file_extension": ".py",
   "mimetype": "text/x-python",
   "name": "python",
   "nbconvert_exporter": "python",
   "pygments_lexer": "ipython3",
   "version": "3.11.5"
  }
 },
 "nbformat": 4,
 "nbformat_minor": 5
}
