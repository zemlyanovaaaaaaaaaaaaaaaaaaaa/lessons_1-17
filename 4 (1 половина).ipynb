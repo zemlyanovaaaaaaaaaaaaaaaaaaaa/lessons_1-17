{
 "cells": [
  {
   "cell_type": "markdown",
   "id": "5529e88a",
   "metadata": {},
   "source": [
    "# Циклы"
   ]
  },
  {
   "cell_type": "markdown",
   "id": "6f9cc654",
   "metadata": {},
   "source": [
    "Задачка посчитать все гласные в строке (Землянова)"
   ]
  },
  {
   "cell_type": "code",
   "execution_count": 15,
   "id": "076803a1",
   "metadata": {},
   "outputs": [],
   "source": [
    "poem = \"\"\"Буря мглою небо кроет, Вихри снежные крутя; То как зверь она завоет, То заплачет как дитя.\"\"\""
   ]
  },
  {
   "cell_type": "code",
   "execution_count": 16,
   "id": "e985f5ae",
   "metadata": {},
   "outputs": [],
   "source": [
    "# while условие:\n",
    "    #делай что-то"
   ]
  },
  {
   "cell_type": "code",
   "execution_count": 17,
   "id": "a4e952fc",
   "metadata": {},
   "outputs": [],
   "source": [
    "poem_length = len(poem)"
   ]
  },
  {
   "cell_type": "code",
   "execution_count": 18,
   "id": "cfb10b4e",
   "metadata": {},
   "outputs": [
    {
     "data": {
      "text/plain": [
       "90"
      ]
     },
     "execution_count": 18,
     "metadata": {},
     "output_type": "execute_result"
    }
   ],
   "source": [
    "poem_length"
   ]
  },
  {
   "cell_type": "code",
   "execution_count": 71,
   "id": "6c7dbfe7",
   "metadata": {},
   "outputs": [],
   "source": [
    "index = 0"
   ]
  },
  {
   "cell_type": "code",
   "execution_count": 72,
   "id": "df1bf128",
   "metadata": {},
   "outputs": [],
   "source": [
    "letter = 'я'"
   ]
  },
  {
   "cell_type": "code",
   "execution_count": 73,
   "id": "f0450ea2",
   "metadata": {},
   "outputs": [
    {
     "data": {
      "text/plain": [
       "3"
      ]
     },
     "execution_count": 73,
     "metadata": {},
     "output_type": "execute_result"
    }
   ],
   "source": [
    "poem.index(letter)"
   ]
  },
  {
   "cell_type": "code",
   "execution_count": 74,
   "id": "cab7c981",
   "metadata": {},
   "outputs": [],
   "source": [
    "vowels = 'аеёиоуыэюя'"
   ]
  },
  {
   "cell_type": "code",
   "execution_count": 75,
   "id": "0ecd5ff0",
   "metadata": {},
   "outputs": [],
   "source": [
    "poem_vowels = ''"
   ]
  },
  {
   "cell_type": "code",
   "execution_count": 76,
   "id": "d0c79809",
   "metadata": {},
   "outputs": [],
   "source": [
    "while index != poem_length:\n",
    "    if poem[index].lower() in vowels:\n",
    "        poem_vowels += poem[index]\n",
    "    index += 1"
   ]
  },
  {
   "cell_type": "code",
   "execution_count": 77,
   "id": "d7b72a80",
   "metadata": {},
   "outputs": [
    {
     "data": {
      "text/plain": [
       "'уяоюеооеииеыеуяоаеоааоеоааеаия'"
      ]
     },
     "execution_count": 77,
     "metadata": {},
     "output_type": "execute_result"
    }
   ],
   "source": [
    "poem_vowels"
   ]
  },
  {
   "cell_type": "code",
   "execution_count": 78,
   "id": "d211415f",
   "metadata": {},
   "outputs": [
    {
     "data": {
      "text/plain": [
       "30"
      ]
     },
     "execution_count": 78,
     "metadata": {},
     "output_type": "execute_result"
    }
   ],
   "source": [
    "len(poem_vowels)"
   ]
  },
  {
   "cell_type": "code",
   "execution_count": 79,
   "id": "77ecf680",
   "metadata": {},
   "outputs": [],
   "source": []
  },
  {
   "cell_type": "code",
   "execution_count": null,
   "id": "c18b8cf4",
   "metadata": {},
   "outputs": [],
   "source": []
  }
 ],
 "metadata": {
  "kernelspec": {
   "display_name": "Python 3 (ipykernel)",
   "language": "python",
   "name": "python3"
  },
  "language_info": {
   "codemirror_mode": {
    "name": "ipython",
    "version": 3
   },
   "file_extension": ".py",
   "mimetype": "text/x-python",
   "name": "python",
   "nbconvert_exporter": "python",
   "pygments_lexer": "ipython3",
   "version": "3.11.5"
  }
 },
 "nbformat": 4,
 "nbformat_minor": 5
}
