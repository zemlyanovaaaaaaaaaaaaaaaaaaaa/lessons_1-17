{
 "cells": [
  {
   "cell_type": "code",
   "execution_count": 1,
   "id": "4868fa62",
   "metadata": {},
   "outputs": [],
   "source": [
    "my_list=[6,7,3,8,1]"
   ]
  },
  {
   "cell_type": "code",
   "execution_count": 2,
   "id": "c10e65a7",
   "metadata": {},
   "outputs": [
    {
     "name": "stdout",
     "output_type": "stream",
     "text": [
      "[6, 7, 3, 8, 1]\n"
     ]
    }
   ],
   "source": [
    "if my_list[0]>my_list[1]:\n",
    "    my_list[0],my_list[1]=my_list[1],my_list[0]\n",
    "print(my_list)"
   ]
  },
  {
   "cell_type": "code",
   "execution_count": 3,
   "id": "2383edf5",
   "metadata": {},
   "outputs": [
    {
     "name": "stdout",
     "output_type": "stream",
     "text": [
      "[6, 3, 7, 8, 1]\n"
     ]
    }
   ],
   "source": [
    "if my_list[1]>my_list[2]:\n",
    "    my_list[1],my_list[2]=my_list[2],my_list[1]\n",
    "print(my_list)"
   ]
  },
  {
   "cell_type": "code",
   "execution_count": 4,
   "id": "21913420",
   "metadata": {},
   "outputs": [
    {
     "name": "stdout",
     "output_type": "stream",
     "text": [
      "сравниваем 6 с 7\n",
      "[6, 7, 3, 8, 1]\n",
      "сравниваем 7 с 3\n",
      "[6, 3, 7, 8, 1]\n",
      "сравниваем 7 с 8\n",
      "[6, 3, 7, 8, 1]\n",
      "сравниваем 8 с 1\n",
      "[6, 3, 7, 1, 8]\n"
     ]
    }
   ],
   "source": [
    "my_list=[6,7,3,8,1]\n",
    "for i in range(len(my_list)-1):\n",
    "    print(f'сравниваем {my_list[i]} с {my_list[i+1]}')\n",
    "    if my_list[i]>my_list[i+1]:\n",
    "        my_list[i],my_list[i+1]=my_list[i+1],my_list[i]\n",
    "    print(my_list)"
   ]
  },
  {
   "cell_type": "code",
   "execution_count": 6,
   "id": "fd436599",
   "metadata": {},
   "outputs": [
    {
     "name": "stdout",
     "output_type": "stream",
     "text": [
      "сравниваем 6 с 7\n",
      "сравниваем 7 с 3\n",
      "сравниваем 7 с 8\n",
      "сравниваем 8 с 1\n",
      "[6, 3, 7, 1, 8]\n",
      "сравниваем 6 с 3\n",
      "сравниваем 6 с 7\n",
      "сравниваем 7 с 1\n",
      "сравниваем 7 с 8\n",
      "[3, 6, 1, 7, 8]\n",
      "сравниваем 3 с 6\n",
      "сравниваем 6 с 1\n",
      "сравниваем 6 с 7\n",
      "сравниваем 7 с 8\n",
      "[3, 1, 6, 7, 8]\n",
      "сравниваем 3 с 1\n",
      "сравниваем 3 с 6\n",
      "сравниваем 6 с 7\n",
      "сравниваем 7 с 8\n",
      "[1, 3, 6, 7, 8]\n",
      "сравниваем 1 с 3\n",
      "сравниваем 3 с 6\n",
      "сравниваем 6 с 7\n",
      "сравниваем 7 с 8\n",
      "[1, 3, 6, 7, 8]\n"
     ]
    }
   ],
   "source": [
    "my_list=[6,7,3,8,1]\n",
    "for run in range (len(my_list)):\n",
    "    for i in range(len(my_list)-1):\n",
    "        print (f'сравниваем {my_list[i]} с {my_list[i+1]}')\n",
    "        if my_list[i]>my_list[i+1]:\n",
    "            my_list[i],my_list[i+1]=my_list[i+1],my_list[i]\n",
    "    print(my_list)"
   ]
  },
  {
   "cell_type": "code",
   "execution_count": 9,
   "id": "d85fdddb",
   "metadata": {},
   "outputs": [],
   "source": [
    "def bubble_sort(my_list):\n",
    "    for run in range (len(my_list)):\n",
    "        for i in range(len(my_list)-1):\n",
    "            print (f'сравниваем {my_list[i]} с {my_list[i+1]}')\n",
    "            if my_list[i]>my_list[i+1]:\n",
    "                my_list[i],my_list[i+1]=my_list[i+1],my_list[i]\n",
    "    return my_list"
   ]
  },
  {
   "cell_type": "code",
   "execution_count": 10,
   "id": "29e822aa",
   "metadata": {},
   "outputs": [
    {
     "name": "stdout",
     "output_type": "stream",
     "text": [
      "сравниваем 1 с 6\n",
      "сравниваем 6 с 8\n",
      "сравниваем 8 с 3\n",
      "сравниваем 8 с 2\n",
      "сравниваем 8 с 57\n",
      "сравниваем 57 с 76\n",
      "сравниваем 76 с 35\n",
      "сравниваем 76 с 0\n",
      "сравниваем 1 с 6\n",
      "сравниваем 6 с 3\n",
      "сравниваем 6 с 2\n",
      "сравниваем 6 с 8\n",
      "сравниваем 8 с 57\n",
      "сравниваем 57 с 35\n",
      "сравниваем 57 с 0\n",
      "сравниваем 57 с 76\n",
      "сравниваем 1 с 3\n",
      "сравниваем 3 с 2\n",
      "сравниваем 3 с 6\n",
      "сравниваем 6 с 8\n",
      "сравниваем 8 с 35\n",
      "сравниваем 35 с 0\n",
      "сравниваем 35 с 57\n",
      "сравниваем 57 с 76\n",
      "сравниваем 1 с 2\n",
      "сравниваем 2 с 3\n",
      "сравниваем 3 с 6\n",
      "сравниваем 6 с 8\n",
      "сравниваем 8 с 0\n",
      "сравниваем 8 с 35\n",
      "сравниваем 35 с 57\n",
      "сравниваем 57 с 76\n",
      "сравниваем 1 с 2\n",
      "сравниваем 2 с 3\n",
      "сравниваем 3 с 6\n",
      "сравниваем 6 с 0\n",
      "сравниваем 6 с 8\n",
      "сравниваем 8 с 35\n",
      "сравниваем 35 с 57\n",
      "сравниваем 57 с 76\n",
      "сравниваем 1 с 2\n",
      "сравниваем 2 с 3\n",
      "сравниваем 3 с 0\n",
      "сравниваем 3 с 6\n",
      "сравниваем 6 с 8\n",
      "сравниваем 8 с 35\n",
      "сравниваем 35 с 57\n",
      "сравниваем 57 с 76\n",
      "сравниваем 1 с 2\n",
      "сравниваем 2 с 0\n",
      "сравниваем 2 с 3\n",
      "сравниваем 3 с 6\n",
      "сравниваем 6 с 8\n",
      "сравниваем 8 с 35\n",
      "сравниваем 35 с 57\n",
      "сравниваем 57 с 76\n",
      "сравниваем 1 с 0\n",
      "сравниваем 1 с 2\n",
      "сравниваем 2 с 3\n",
      "сравниваем 3 с 6\n",
      "сравниваем 6 с 8\n",
      "сравниваем 8 с 35\n",
      "сравниваем 35 с 57\n",
      "сравниваем 57 с 76\n",
      "сравниваем 0 с 1\n",
      "сравниваем 1 с 2\n",
      "сравниваем 2 с 3\n",
      "сравниваем 3 с 6\n",
      "сравниваем 6 с 8\n",
      "сравниваем 8 с 35\n",
      "сравниваем 35 с 57\n",
      "сравниваем 57 с 76\n"
     ]
    },
    {
     "data": {
      "text/plain": [
       "[0, 1, 2, 3, 6, 8, 35, 57, 76]"
      ]
     },
     "execution_count": 10,
     "metadata": {},
     "output_type": "execute_result"
    }
   ],
   "source": [
    "my_list=[1,6,8,3,2,57,76,35,0]\n",
    "bubble_sort(my_list)"
   ]
  },
  {
   "cell_type": "code",
   "execution_count": 11,
   "id": "78ccb3c3",
   "metadata": {},
   "outputs": [
    {
     "data": {
      "text/plain": [
       "[0, 1, 2, 3, 6, 8, 35, 57, 76]"
      ]
     },
     "execution_count": 11,
     "metadata": {},
     "output_type": "execute_result"
    }
   ],
   "source": [
    "my_list=[1,6,8,3,2,57,76,35,0]\n",
    "my_list.sort()\n",
    "my_list"
   ]
  },
  {
   "cell_type": "code",
   "execution_count": 12,
   "id": "fbe4793f",
   "metadata": {},
   "outputs": [
    {
     "data": {
      "text/plain": [
       "[0, 1, 2, 3, 6, 8, 35, 57, 76]"
      ]
     },
     "execution_count": 12,
     "metadata": {},
     "output_type": "execute_result"
    }
   ],
   "source": [
    "my_list=[1,6,8,3,2,57,76,35,0]\n",
    "sorted(my_list)"
   ]
  },
  {
   "cell_type": "code",
   "execution_count": 13,
   "id": "46f8a838",
   "metadata": {},
   "outputs": [
    {
     "data": {
      "text/plain": [
       "[1, 6, 8, 3, 2, 57, 76, 35, 0]"
      ]
     },
     "execution_count": 13,
     "metadata": {},
     "output_type": "execute_result"
    }
   ],
   "source": [
    "my_list"
   ]
  },
  {
   "cell_type": "code",
   "execution_count": 18,
   "id": "a317752b",
   "metadata": {},
   "outputs": [
    {
     "data": {
      "text/plain": [
       "[' ', 'В', 'а', 'е', 'ж', 'и', 'и', 'и', 'н', 'о', 'р', 'с', 'т', 'ы']"
      ]
     },
     "execution_count": 18,
     "metadata": {},
     "output_type": "execute_result"
    }
   ],
   "source": [
    "string= 'Важные истории'\n",
    "sorted(string)"
   ]
  },
  {
   "cell_type": "code",
   "execution_count": 21,
   "id": "227d1d66",
   "metadata": {},
   "outputs": [
    {
     "data": {
      "text/plain": [
       "['income', 'name', 'wife_income']"
      ]
     },
     "execution_count": 21,
     "metadata": {},
     "output_type": "execute_result"
    }
   ],
   "source": [
    "fab_dict={'name':'Землянова К.К.', 'income': 13626718.98, 'wife_income':261956.95}\n",
    "sorted(fab_dict)"
   ]
  },
  {
   "cell_type": "code",
   "execution_count": 22,
   "id": "1a8c6156",
   "metadata": {},
   "outputs": [
    {
     "data": {
      "text/plain": [
       "[76, 57, 35, 8, 6, 3, 2, 1, 0]"
      ]
     },
     "execution_count": 22,
     "metadata": {},
     "output_type": "execute_result"
    }
   ],
   "source": [
    "my_list=[1,6,8,3,2,57,76,35,0]\n",
    "sorted(my_list, reverse=True)"
   ]
  },
  {
   "cell_type": "code",
   "execution_count": 23,
   "id": "d1a9ffa0",
   "metadata": {},
   "outputs": [
    {
     "data": {
      "text/plain": [
       "[' ', 'а', 'В', 'е', 'ж', 'и', 'и', 'и', 'н', 'о', 'р', 'с', 'т', 'ы']"
      ]
     },
     "execution_count": 23,
     "metadata": {},
     "output_type": "execute_result"
    }
   ],
   "source": [
    "string= 'Важные истории'\n",
    "sorted(string, key=str.lower)"
   ]
  },
  {
   "cell_type": "code",
   "execution_count": 30,
   "id": "dda19a68",
   "metadata": {},
   "outputs": [],
   "source": [
    "fsb_list=[['Землянова К.К.', 13626718.98, 94858395.98],['Землянова С.К.', 9485938454.65,78485348543.98]]\n"
   ]
  },
  {
   "cell_type": "code",
   "execution_count": 31,
   "id": "5270523f",
   "metadata": {},
   "outputs": [
    {
     "data": {
      "text/plain": [
       "[['Землянова К.К.', 13626718.98, 94858395.98],\n",
       " ['Землянова С.К.', 9485938454.65, 78485348543.98]]"
      ]
     },
     "execution_count": 31,
     "metadata": {},
     "output_type": "execute_result"
    }
   ],
   "source": [
    "sorted(fsb_list)"
   ]
  },
  {
   "cell_type": "code",
   "execution_count": 32,
   "id": "46ea63d7",
   "metadata": {},
   "outputs": [],
   "source": [
    "def fsb_income(i):\n",
    "    return i[1]"
   ]
  },
  {
   "cell_type": "code",
   "execution_count": 33,
   "id": "d8f410d4",
   "metadata": {},
   "outputs": [
    {
     "data": {
      "text/plain": [
       "[['Землянова К.К.', 13626718.98, 94858395.98],\n",
       " ['Землянова С.К.', 9485938454.65, 78485348543.98]]"
      ]
     },
     "execution_count": 33,
     "metadata": {},
     "output_type": "execute_result"
    }
   ],
   "source": [
    "sorted(fsb_list,key=fsb_income)"
   ]
  },
  {
   "cell_type": "code",
   "execution_count": null,
   "id": "ddc04355",
   "metadata": {},
   "outputs": [],
   "source": []
  }
 ],
 "metadata": {
  "kernelspec": {
   "display_name": "Python 3 (ipykernel)",
   "language": "python",
   "name": "python3"
  },
  "language_info": {
   "codemirror_mode": {
    "name": "ipython",
    "version": 3
   },
   "file_extension": ".py",
   "mimetype": "text/x-python",
   "name": "python",
   "nbconvert_exporter": "python",
   "pygments_lexer": "ipython3",
   "version": "3.11.5"
  }
 },
 "nbformat": 4,
 "nbformat_minor": 5
}
