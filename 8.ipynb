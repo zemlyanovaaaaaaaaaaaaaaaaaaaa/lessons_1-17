{
 "cells": [
  {
   "cell_type": "code",
   "execution_count": 42,
   "id": "c0488b4a",
   "metadata": {},
   "outputs": [],
   "source": [
    "my_list = [1, 2, 3]"
   ]
  },
  {
   "cell_type": "code",
   "execution_count": 43,
   "id": "b284c524",
   "metadata": {},
   "outputs": [
    {
     "data": {
      "text/plain": [
       "6"
      ]
     },
     "execution_count": 43,
     "metadata": {},
     "output_type": "execute_result"
    }
   ],
   "source": [
    "sum(my_list)"
   ]
  },
  {
   "cell_type": "code",
   "execution_count": 44,
   "id": "7c47806a",
   "metadata": {},
   "outputs": [
    {
     "name": "stdout",
     "output_type": "stream",
     "text": [
      "6\n"
     ]
    }
   ],
   "source": [
    "summa = 0\n",
    "\n",
    "for num in my_list:\n",
    "    summa+=num\n",
    "    \n",
    "print(summa)"
   ]
  },
  {
   "cell_type": "code",
   "execution_count": 45,
   "id": "6072b98a",
   "metadata": {},
   "outputs": [],
   "source": [
    "def our_sum (a_list):\n",
    "    summa = 0\n",
    "    \n",
    "    for num in my_list:\n",
    "        summa+=num\n",
    "    return summa"
   ]
  },
  {
   "cell_type": "code",
   "execution_count": 46,
   "id": "c326016b",
   "metadata": {},
   "outputs": [
    {
     "data": {
      "text/plain": [
       "6"
      ]
     },
     "execution_count": 46,
     "metadata": {},
     "output_type": "execute_result"
    }
   ],
   "source": [
    "our_sum([2, 3, 4 ,5])"
   ]
  },
  {
   "cell_type": "code",
   "execution_count": 23,
   "id": "aa7082b2",
   "metadata": {},
   "outputs": [],
   "source": [
    "def say_hi():\n",
    "    print('Hi!')"
   ]
  },
  {
   "cell_type": "code",
   "execution_count": 24,
   "id": "605abfcf",
   "metadata": {},
   "outputs": [
    {
     "name": "stdout",
     "output_type": "stream",
     "text": [
      "Hi!\n"
     ]
    }
   ],
   "source": [
    "say_hi()"
   ]
  },
  {
   "cell_type": "code",
   "execution_count": 25,
   "id": "17891bb1",
   "metadata": {},
   "outputs": [],
   "source": [
    "def get_name ():\n",
    "    name = input('Введите имя ')\n",
    "    return name"
   ]
  },
  {
   "cell_type": "code",
   "execution_count": 34,
   "id": "629974d6",
   "metadata": {},
   "outputs": [
    {
     "name": "stdout",
     "output_type": "stream",
     "text": [
      "Введите имя Кристина\n"
     ]
    },
    {
     "data": {
      "text/plain": [
       "'Кристина'"
      ]
     },
     "execution_count": 34,
     "metadata": {},
     "output_type": "execute_result"
    }
   ],
   "source": [
    "get_name()"
   ]
  },
  {
   "cell_type": "code",
   "execution_count": 35,
   "id": "955ca4eb",
   "metadata": {},
   "outputs": [],
   "source": [
    "def say_hi_to(name):\n",
    "    return f'Привет, {name}!'"
   ]
  },
  {
   "cell_type": "code",
   "execution_count": 36,
   "id": "32bc5a8b",
   "metadata": {},
   "outputs": [
    {
     "name": "stdout",
     "output_type": "stream",
     "text": [
      "Введите имя Кристина\n"
     ]
    },
    {
     "data": {
      "text/plain": [
       "'Привет, Кристина!'"
      ]
     },
     "execution_count": 36,
     "metadata": {},
     "output_type": "execute_result"
    }
   ],
   "source": [
    "say_hi_to(get_name())"
   ]
  },
  {
   "cell_type": "code",
   "execution_count": 50,
   "id": "13310851",
   "metadata": {},
   "outputs": [],
   "source": [
    "def clean_tel(tel_num):\n",
    "    clean_tel = tel_num.replace(' ', ' ').replace('-',' ').replace(')','').replace('(','')\n",
    "    return clean_tel"
   ]
  },
  {
   "cell_type": "code",
   "execution_count": 51,
   "id": "0fcbcc8f",
   "metadata": {},
   "outputs": [
    {
     "data": {
      "text/plain": [
       "'8 987 657 12 11'"
      ]
     },
     "execution_count": 51,
     "metadata": {},
     "output_type": "execute_result"
    }
   ],
   "source": [
    "clean_tel('8-(987)-657 12 11')"
   ]
  },
  {
   "cell_type": "code",
   "execution_count": 52,
   "id": "c030976b",
   "metadata": {},
   "outputs": [],
   "source": [
    "phone_book = {'Кристина': '8-987-657 12 11', 'Bob': '89012346578'}"
   ]
  },
  {
   "cell_type": "code",
   "execution_count": 53,
   "id": "6f6a2800",
   "metadata": {},
   "outputs": [],
   "source": [
    "def clean_book(book, data =[]):\n",
    "    for name, tel in book.items():\n",
    "        data.append([name,clean_tel(tel)])\n",
    "    return data"
   ]
  },
  {
   "cell_type": "code",
   "execution_count": 54,
   "id": "3612d5df",
   "metadata": {},
   "outputs": [
    {
     "data": {
      "text/plain": [
       "[['Кристина', '8 987 657 12 11'], ['Bob', '89012346578']]"
      ]
     },
     "execution_count": 54,
     "metadata": {},
     "output_type": "execute_result"
    }
   ],
   "source": [
    "clean_book(phone_book)"
   ]
  },
  {
   "cell_type": "code",
   "execution_count": 55,
   "id": "19eaaace",
   "metadata": {},
   "outputs": [],
   "source": [
    "def sum_two(x,y):\n",
    "    return x+y"
   ]
  },
  {
   "cell_type": "code",
   "execution_count": 56,
   "id": "fd1f2ee5",
   "metadata": {},
   "outputs": [
    {
     "data": {
      "text/plain": [
       "3"
      ]
     },
     "execution_count": 56,
     "metadata": {},
     "output_type": "execute_result"
    }
   ],
   "source": [
    "sum_two(1,2)"
   ]
  },
  {
   "cell_type": "code",
   "execution_count": 57,
   "id": "a1d8cd2d",
   "metadata": {},
   "outputs": [],
   "source": [
    "func = lambda x,y : x+y"
   ]
  },
  {
   "cell_type": "code",
   "execution_count": 58,
   "id": "5103eff3",
   "metadata": {},
   "outputs": [
    {
     "data": {
      "text/plain": [
       "3"
      ]
     },
     "execution_count": 58,
     "metadata": {},
     "output_type": "execute_result"
    }
   ],
   "source": [
    "func(1,2)"
   ]
  },
  {
   "cell_type": "code",
   "execution_count": 59,
   "id": "5d494b6f",
   "metadata": {},
   "outputs": [
    {
     "data": {
      "text/plain": [
       "3"
      ]
     },
     "execution_count": 59,
     "metadata": {},
     "output_type": "execute_result"
    }
   ],
   "source": [
    "(lambda x,y : x+y) (1,2)"
   ]
  },
  {
   "cell_type": "code",
   "execution_count": 62,
   "id": "24ed985e",
   "metadata": {},
   "outputs": [
    {
     "data": {
      "text/plain": [
       "'Привет, Кристина'"
      ]
     },
     "execution_count": 62,
     "metadata": {},
     "output_type": "execute_result"
    }
   ],
   "source": [
    "say_hi = lambda name: f'Привет, {name.title()}'\n",
    "say_hi('Кристина')"
   ]
  },
  {
   "cell_type": "code",
   "execution_count": null,
   "id": "5d1f74e0",
   "metadata": {},
   "outputs": [],
   "source": []
  }
 ],
 "metadata": {
  "kernelspec": {
   "display_name": "Python 3 (ipykernel)",
   "language": "python",
   "name": "python3"
  },
  "language_info": {
   "codemirror_mode": {
    "name": "ipython",
    "version": 3
   },
   "file_extension": ".py",
   "mimetype": "text/x-python",
   "name": "python",
   "nbconvert_exporter": "python",
   "pygments_lexer": "ipython3",
   "version": "3.11.5"
  }
 },
 "nbformat": 4,
 "nbformat_minor": 5
}
