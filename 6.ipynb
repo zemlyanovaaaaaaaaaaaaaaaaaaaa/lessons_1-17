{
 "cells": [
  {
   "cell_type": "code",
   "execution_count": 1,
   "id": "41ddd55c",
   "metadata": {},
   "outputs": [
    {
     "data": {
      "text/plain": [
       "dict"
      ]
     },
     "execution_count": 1,
     "metadata": {},
     "output_type": "execute_result"
    }
   ],
   "source": [
    "new_dict = {}\n",
    "type(new_dict)"
   ]
  },
  {
   "cell_type": "code",
   "execution_count": 2,
   "id": "fe4dda0f",
   "metadata": {},
   "outputs": [
    {
     "data": {
      "text/plain": [
       "{}"
      ]
     },
     "execution_count": 2,
     "metadata": {},
     "output_type": "execute_result"
    }
   ],
   "source": [
    "new_dict = dict ()\n",
    "new_dict"
   ]
  },
  {
   "cell_type": "code",
   "execution_count": 9,
   "id": "c09e4605",
   "metadata": {},
   "outputs": [
    {
     "data": {
      "text/plain": [
       "9934327685"
      ]
     },
     "execution_count": 9,
     "metadata": {},
     "output_type": "execute_result"
    }
   ],
   "source": [
    "income = {'Землянова Кристина Константиновна': 9934327685}\n",
    "income ['Землянова Кристина Константиновна']"
   ]
  },
  {
   "cell_type": "code",
   "execution_count": 11,
   "id": "3ec51ce6",
   "metadata": {},
   "outputs": [
    {
     "ename": "KeyError",
     "evalue": "3",
     "output_type": "error",
     "traceback": [
      "\u001b[1;31m---------------------------------------------------------------------------\u001b[0m",
      "\u001b[1;31mKeyError\u001b[0m                                  Traceback (most recent call last)",
      "Cell \u001b[1;32mIn[11], line 1\u001b[0m\n\u001b[1;32m----> 1\u001b[0m income[\u001b[38;5;241m3\u001b[39m]\n",
      "\u001b[1;31mKeyError\u001b[0m: 3"
     ]
    }
   ],
   "source": [
    "income[3]"
   ]
  },
  {
   "cell_type": "code",
   "execution_count": 12,
   "id": "a2e34b49",
   "metadata": {},
   "outputs": [
    {
     "data": {
      "text/plain": [
       "'нет ключа'"
      ]
     },
     "execution_count": 12,
     "metadata": {},
     "output_type": "execute_result"
    }
   ],
   "source": [
    "income.get('Землянова Кристина КОнстантиновна', 'нет ключа')"
   ]
  },
  {
   "cell_type": "code",
   "execution_count": 13,
   "id": "7471c72b",
   "metadata": {},
   "outputs": [
    {
     "data": {
      "text/plain": [
       "'нет ключа'"
      ]
     },
     "execution_count": 13,
     "metadata": {},
     "output_type": "execute_result"
    }
   ],
   "source": [
    "income.get(3, 'нет ключа')"
   ]
  },
  {
   "cell_type": "code",
   "execution_count": 14,
   "id": "5cbb9a3d",
   "metadata": {},
   "outputs": [
    {
     "data": {
      "text/plain": [
       "0"
      ]
     },
     "execution_count": 14,
     "metadata": {},
     "output_type": "execute_result"
    }
   ],
   "source": [
    "number_dict = {1:0, 2:1, 3:2, 4:3}\n",
    "number_dict[1]"
   ]
  },
  {
   "cell_type": "code",
   "execution_count": 15,
   "id": "f74aa733",
   "metadata": {},
   "outputs": [
    {
     "ename": "KeyError",
     "evalue": "'1'",
     "output_type": "error",
     "traceback": [
      "\u001b[1;31m---------------------------------------------------------------------------\u001b[0m",
      "\u001b[1;31mKeyError\u001b[0m                                  Traceback (most recent call last)",
      "Cell \u001b[1;32mIn[15], line 1\u001b[0m\n\u001b[1;32m----> 1\u001b[0m number_dict[\u001b[38;5;124m\"\u001b[39m\u001b[38;5;124m1\u001b[39m\u001b[38;5;124m\"\u001b[39m]\n",
      "\u001b[1;31mKeyError\u001b[0m: '1'"
     ]
    }
   ],
   "source": [
    "number_dict[\"1\"]"
   ]
  },
  {
   "cell_type": "code",
   "execution_count": 16,
   "id": "fda0fe2b",
   "metadata": {},
   "outputs": [],
   "source": [
    "income['Землянова Кристина КОнстантиновна'] =[123456, 543212, 75465645]"
   ]
  },
  {
   "cell_type": "code",
   "execution_count": 19,
   "id": "b7f516dc",
   "metadata": {},
   "outputs": [
    {
     "data": {
      "text/plain": [
       "{'Землянова Кристина КОнстантиновна': [123456, 543212, 75465645]}"
      ]
     },
     "execution_count": 19,
     "metadata": {},
     "output_type": "execute_result"
    }
   ],
   "source": [
    "income"
   ]
  },
  {
   "cell_type": "code",
   "execution_count": 21,
   "id": "c70ff219",
   "metadata": {},
   "outputs": [
    {
     "data": {
      "text/plain": [
       "['Землянова Кристина КОнстантиновна']"
      ]
     },
     "execution_count": 21,
     "metadata": {},
     "output_type": "execute_result"
    }
   ],
   "source": [
    "list(income.keys())"
   ]
  },
  {
   "cell_type": "code",
   "execution_count": 22,
   "id": "2c429e91",
   "metadata": {},
   "outputs": [
    {
     "data": {
      "text/plain": [
       "[[123456, 543212, 75465645]]"
      ]
     },
     "execution_count": 22,
     "metadata": {},
     "output_type": "execute_result"
    }
   ],
   "source": [
    "list(income.values())"
   ]
  },
  {
   "cell_type": "code",
   "execution_count": 23,
   "id": "ae649dfa",
   "metadata": {},
   "outputs": [],
   "source": [
    "income_dict = {'Землянова Кристина КОнстантиновна' : [1234567, 87487654,7432848327]}"
   ]
  },
  {
   "cell_type": "code",
   "execution_count": 24,
   "id": "8c58d18f",
   "metadata": {},
   "outputs": [
    {
     "data": {
      "text/plain": [
       "list"
      ]
     },
     "execution_count": 24,
     "metadata": {},
     "output_type": "execute_result"
    }
   ],
   "source": [
    "type(income_dict['Землянова Кристина КОнстантиновна'])"
   ]
  },
  {
   "cell_type": "code",
   "execution_count": 27,
   "id": "4e068097",
   "metadata": {},
   "outputs": [
    {
     "name": "stdout",
     "output_type": "stream",
     "text": [
      "Землянова Кристина КОнстантиновна [1234567, 87487654, 7432848327]\n"
     ]
    }
   ],
   "source": [
    "for key, value in income_dict.items():\n",
    "    print(key, value)"
   ]
  },
  {
   "cell_type": "code",
   "execution_count": null,
   "id": "d4e85149",
   "metadata": {},
   "outputs": [],
   "source": []
  }
 ],
 "metadata": {
  "kernelspec": {
   "display_name": "Python 3 (ipykernel)",
   "language": "python",
   "name": "python3"
  },
  "language_info": {
   "codemirror_mode": {
    "name": "ipython",
    "version": 3
   },
   "file_extension": ".py",
   "mimetype": "text/x-python",
   "name": "python",
   "nbconvert_exporter": "python",
   "pygments_lexer": "ipython3",
   "version": "3.11.5"
  }
 },
 "nbformat": 4,
 "nbformat_minor": 5
}
