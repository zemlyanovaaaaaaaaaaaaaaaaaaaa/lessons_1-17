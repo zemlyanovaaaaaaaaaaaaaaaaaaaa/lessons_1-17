{
 "cells": [
  {
   "cell_type": "code",
   "execution_count": 1,
   "id": "e1bea2f1",
   "metadata": {},
   "outputs": [
    {
     "data": {
      "text/plain": [
       "[1, 2, 3, 4, 5]"
      ]
     },
     "execution_count": 1,
     "metadata": {},
     "output_type": "execute_result"
    }
   ],
   "source": [
    "[1, 2, 3, 4, 5]"
   ]
  },
  {
   "cell_type": "code",
   "execution_count": 2,
   "id": "9ee59398",
   "metadata": {},
   "outputs": [
    {
     "data": {
      "text/plain": [
       "list"
      ]
     },
     "execution_count": 2,
     "metadata": {},
     "output_type": "execute_result"
    }
   ],
   "source": [
    "type([1, 2, 3, 4, 5])"
   ]
  },
  {
   "cell_type": "code",
   "execution_count": 4,
   "id": "60c78135",
   "metadata": {},
   "outputs": [
    {
     "data": {
      "text/plain": [
       "list"
      ]
     },
     "execution_count": 4,
     "metadata": {},
     "output_type": "execute_result"
    }
   ],
   "source": [
    "type(['line1', 'line2'])"
   ]
  },
  {
   "cell_type": "code",
   "execution_count": 9,
   "id": "000990f8",
   "metadata": {},
   "outputs": [
    {
     "data": {
      "text/plain": [
       "[1, 1.4, 'line', [1, 2, 3]]"
      ]
     },
     "execution_count": 9,
     "metadata": {},
     "output_type": "execute_result"
    }
   ],
   "source": [
    "[1, 1.4, 'line', [1, 2, 3]]"
   ]
  },
  {
   "cell_type": "code",
   "execution_count": 10,
   "id": "485c504c",
   "metadata": {},
   "outputs": [],
   "source": [
    "my_list = list()"
   ]
  },
  {
   "cell_type": "code",
   "execution_count": 11,
   "id": "4412e2c2",
   "metadata": {},
   "outputs": [
    {
     "data": {
      "text/plain": [
       "[]"
      ]
     },
     "execution_count": 11,
     "metadata": {},
     "output_type": "execute_result"
    }
   ],
   "source": [
    "my_list"
   ]
  },
  {
   "cell_type": "code",
   "execution_count": 12,
   "id": "fac7cb45",
   "metadata": {},
   "outputs": [
    {
     "data": {
      "text/plain": [
       "[]"
      ]
     },
     "execution_count": 12,
     "metadata": {},
     "output_type": "execute_result"
    }
   ],
   "source": [
    "my_list = []\n",
    "my_list"
   ]
  },
  {
   "cell_type": "code",
   "execution_count": 14,
   "id": "241acd6f",
   "metadata": {},
   "outputs": [
    {
     "name": "stdout",
     "output_type": "stream",
     "text": [
      "<class 'int'> 1\n",
      "<class 'float'> 1.4\n",
      "<class 'str'> line\n",
      "<class 'list'> [1, 2, 3]\n"
     ]
    }
   ],
   "source": [
    "my_list = [1, 1.4, 'line', [1, 2, 3]]\n",
    "\n",
    "for el in my_list:\n",
    "    print(type(el), el)"
   ]
  },
  {
   "cell_type": "code",
   "execution_count": 15,
   "id": "ff79d873",
   "metadata": {},
   "outputs": [
    {
     "data": {
      "text/plain": [
       "4"
      ]
     },
     "execution_count": 15,
     "metadata": {},
     "output_type": "execute_result"
    }
   ],
   "source": [
    "len(my_list)"
   ]
  },
  {
   "cell_type": "code",
   "execution_count": 16,
   "id": "4bc6d860",
   "metadata": {},
   "outputs": [
    {
     "data": {
      "text/plain": [
       "'line'"
      ]
     },
     "execution_count": 16,
     "metadata": {},
     "output_type": "execute_result"
    }
   ],
   "source": [
    "my_list[2]"
   ]
  },
  {
   "cell_type": "code",
   "execution_count": 17,
   "id": "4d9d2e82",
   "metadata": {},
   "outputs": [
    {
     "data": {
      "text/plain": [
       "1"
      ]
     },
     "execution_count": 17,
     "metadata": {},
     "output_type": "execute_result"
    }
   ],
   "source": [
    "my_list.index(1.4)"
   ]
  },
  {
   "cell_type": "code",
   "execution_count": 18,
   "id": "d9d6bc9d",
   "metadata": {},
   "outputs": [],
   "source": [
    "my_list.append('one_more_line')"
   ]
  },
  {
   "cell_type": "code",
   "execution_count": 19,
   "id": "0b49c368",
   "metadata": {},
   "outputs": [
    {
     "data": {
      "text/plain": [
       "[1, 1.4, 'line', [1, 2, 3], 'one_more_line']"
      ]
     },
     "execution_count": 19,
     "metadata": {},
     "output_type": "execute_result"
    }
   ],
   "source": [
    "my_list"
   ]
  },
  {
   "cell_type": "code",
   "execution_count": 20,
   "id": "3ae886cd",
   "metadata": {},
   "outputs": [],
   "source": [
    "my_list.insert(1, 100)"
   ]
  },
  {
   "cell_type": "code",
   "execution_count": 21,
   "id": "562c9f29",
   "metadata": {},
   "outputs": [
    {
     "data": {
      "text/plain": [
       "[1, 100, 1.4, 'line', [1, 2, 3], 'one_more_line']"
      ]
     },
     "execution_count": 21,
     "metadata": {},
     "output_type": "execute_result"
    }
   ],
   "source": [
    "my_list"
   ]
  },
  {
   "cell_type": "code",
   "execution_count": 22,
   "id": "640513ca",
   "metadata": {},
   "outputs": [],
   "source": [
    "my_list.remove(100)"
   ]
  },
  {
   "cell_type": "code",
   "execution_count": 23,
   "id": "bed9f814",
   "metadata": {},
   "outputs": [
    {
     "data": {
      "text/plain": [
       "[1, 1.4, 'line', [1, 2, 3], 'one_more_line']"
      ]
     },
     "execution_count": 23,
     "metadata": {},
     "output_type": "execute_result"
    }
   ],
   "source": [
    "my_list"
   ]
  },
  {
   "cell_type": "code",
   "execution_count": 27,
   "id": "9464a752",
   "metadata": {},
   "outputs": [],
   "source": [
    "number_list = [3, 49, 1,16]\n",
    "sorted_list = sorted(number_list)"
   ]
  },
  {
   "cell_type": "code",
   "execution_count": 26,
   "id": "8df85378",
   "metadata": {},
   "outputs": [
    {
     "data": {
      "text/plain": [
       "[3, 49, 1, 16]"
      ]
     },
     "execution_count": 26,
     "metadata": {},
     "output_type": "execute_result"
    }
   ],
   "source": [
    "number_list"
   ]
  },
  {
   "cell_type": "code",
   "execution_count": 28,
   "id": "14ec32b6",
   "metadata": {},
   "outputs": [
    {
     "data": {
      "text/plain": [
       "[1, 3, 16, 49]"
      ]
     },
     "execution_count": 28,
     "metadata": {},
     "output_type": "execute_result"
    }
   ],
   "source": [
    "sorted_list"
   ]
  },
  {
   "cell_type": "code",
   "execution_count": 29,
   "id": "35391546",
   "metadata": {},
   "outputs": [
    {
     "data": {
      "text/plain": [
       "['а', 'в', 'щ']"
      ]
     },
     "execution_count": 29,
     "metadata": {},
     "output_type": "execute_result"
    }
   ],
   "source": [
    "str_list = ['а', \"щ\", \"в\"]\n",
    "sorted(str_list)"
   ]
  },
  {
   "cell_type": "code",
   "execution_count": 36,
   "id": "62f1ffd3",
   "metadata": {},
   "outputs": [
    {
     "name": "stdout",
     "output_type": "stream",
     "text": [
      "Введите четное число:3\n",
      "3 не деится на 2 без остатка\n",
      "Введите четное число:2\n",
      "Введите четное число:4\n",
      "Введите четное число:5\n",
      "5 не деится на 2 без остатка\n",
      "Введите четное число:1\n",
      "1 не деится на 2 без остатка\n",
      "[2, 4]\n"
     ]
    }
   ],
   "source": [
    "my_list = []\n",
    "\n",
    "for num in range(5):\n",
    "    x =int(input('Введите четное число:'))\n",
    "    if x%2 == 0:\n",
    "        my_list.append(x)\n",
    "    else:\n",
    "        print(f'{x} не деится на 2 без остатка')\n",
    "print(my_list)"
   ]
  },
  {
   "cell_type": "code",
   "execution_count": 34,
   "id": "36a84131",
   "metadata": {},
   "outputs": [
    {
     "data": {
      "text/plain": [
       "1"
      ]
     },
     "execution_count": 34,
     "metadata": {},
     "output_type": "execute_result"
    }
   ],
   "source": [
    "5%2"
   ]
  },
  {
   "cell_type": "code",
   "execution_count": 41,
   "id": "e0a2adec",
   "metadata": {},
   "outputs": [],
   "source": [
    "my_list = ['2%', '45%', '6%']\n",
    "clean_list = []\n",
    "for el in my_list:\n",
    "    clean_el = int(el.replace('%', ''))\n",
    "    clean_list.append(clean_el)"
   ]
  },
  {
   "cell_type": "code",
   "execution_count": 42,
   "id": "4a4ce8cc",
   "metadata": {},
   "outputs": [
    {
     "data": {
      "text/plain": [
       "[2, 45, 6]"
      ]
     },
     "execution_count": 42,
     "metadata": {},
     "output_type": "execute_result"
    }
   ],
   "source": [
    "clean_list"
   ]
  },
  {
   "cell_type": "code",
   "execution_count": 59,
   "id": "8eca2f4d",
   "metadata": {},
   "outputs": [],
   "source": [
    "city_names = ['city1', 'city2', 'city3']\n",
    "crimes = [30000, 10000, 200]\n",
    "population = [100000, 50000, 1000]\n",
    "norm_crimes = [300.0, 200.0, 200.0]"
   ]
  },
  {
   "cell_type": "code",
   "execution_count": 60,
   "id": "dd58fb1f",
   "metadata": {},
   "outputs": [
    {
     "data": {
      "text/plain": [
       "[['city1', 'city2', 'city3'],\n",
       " [30000, 10000, 200],\n",
       " [100000, 50000, 1000],\n",
       " [300.0, 200.0, 200.0]]"
      ]
     },
     "execution_count": 60,
     "metadata": {},
     "output_type": "execute_result"
    }
   ],
   "source": [
    "[city_names, crimes, population, norm_crimes]"
   ]
  },
  {
   "cell_type": "code",
   "execution_count": 54,
   "id": "45d02088",
   "metadata": {},
   "outputs": [
    {
     "data": {
      "text/plain": [
       "30000"
      ]
     },
     "execution_count": 54,
     "metadata": {},
     "output_type": "execute_result"
    }
   ],
   "source": [
    "max(crimes)"
   ]
  },
  {
   "cell_type": "markdown",
   "id": "dc06512c",
   "metadata": {},
   "source": [
    "кол-во преступлений / население * 1000"
   ]
  },
  {
   "cell_type": "code",
   "execution_count": 57,
   "id": "5e3e4de1",
   "metadata": {},
   "outputs": [
    {
     "name": "stdout",
     "output_type": "stream",
     "text": [
      "[300.0, 200.0, 200.0]\n"
     ]
    }
   ],
   "source": [
    "norm_crimes = []\n",
    "for i in range(len(crimes)):\n",
    "    norm_crimes.append(crimes[i]/population[i]*1000)\n",
    "print(norm_crimes)"
   ]
  },
  {
   "cell_type": "code",
   "execution_count": 62,
   "id": "a42beade",
   "metadata": {},
   "outputs": [],
   "source": [
    "total_crimes = sum(crimes)"
   ]
  },
  {
   "cell_type": "code",
   "execution_count": 64,
   "id": "b0f1cbea",
   "metadata": {},
   "outputs": [
    {
     "data": {
      "text/plain": [
       "151000"
      ]
     },
     "execution_count": 64,
     "metadata": {},
     "output_type": "execute_result"
    }
   ],
   "source": [
    "total_population = sum(population)\n",
    "total_population"
   ]
  },
  {
   "cell_type": "code",
   "execution_count": 66,
   "id": "fdb94e3f",
   "metadata": {},
   "outputs": [],
   "source": [
    "total_norm = total_crimes / total_population * 1000"
   ]
  },
  {
   "cell_type": "code",
   "execution_count": 67,
   "id": "930fe4dd",
   "metadata": {},
   "outputs": [
    {
     "data": {
      "text/plain": [
       "[30000, 10000, 200, 40200]"
      ]
     },
     "execution_count": 67,
     "metadata": {},
     "output_type": "execute_result"
    }
   ],
   "source": [
    "crimes.append(total_crimes)\n",
    "crimes"
   ]
  },
  {
   "cell_type": "code",
   "execution_count": 68,
   "id": "1e5d4271",
   "metadata": {},
   "outputs": [
    {
     "data": {
      "text/plain": [
       "[100000, 50000, 1000, 151000]"
      ]
     },
     "execution_count": 68,
     "metadata": {},
     "output_type": "execute_result"
    }
   ],
   "source": [
    "population.append(total_population)\n",
    "population"
   ]
  },
  {
   "cell_type": "code",
   "execution_count": 69,
   "id": "0adc1b5a",
   "metadata": {},
   "outputs": [
    {
     "data": {
      "text/plain": [
       "[300.0, 200.0, 200.0, 266.2251655629139]"
      ]
     },
     "execution_count": 69,
     "metadata": {},
     "output_type": "execute_result"
    }
   ],
   "source": [
    "norm_crimes.append(total_norm)\n",
    "norm_crimes"
   ]
  },
  {
   "cell_type": "code",
   "execution_count": null,
   "id": "f4cca300",
   "metadata": {},
   "outputs": [],
   "source": []
  }
 ],
 "metadata": {
  "kernelspec": {
   "display_name": "Python 3 (ipykernel)",
   "language": "python",
   "name": "python3"
  },
  "language_info": {
   "codemirror_mode": {
    "name": "ipython",
    "version": 3
   },
   "file_extension": ".py",
   "mimetype": "text/x-python",
   "name": "python",
   "nbconvert_exporter": "python",
   "pygments_lexer": "ipython3",
   "version": "3.11.5"
  }
 },
 "nbformat": 4,
 "nbformat_minor": 5
}
