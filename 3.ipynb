{
 "cells": [
  {
   "cell_type": "markdown",
   "id": "c1a09961",
   "metadata": {},
   "source": [
    "# Условия if, elif, else"
   ]
  },
  {
   "cell_type": "markdown",
   "id": "345af85b",
   "metadata": {},
   "source": [
    "Задачка по налогам"
   ]
  },
  {
   "cell_type": "markdown",
   "id": "c3818f17",
   "metadata": {},
   "source": [
    "ИП1: 15%\n",
    "\n",
    "ИП2: 6%\n",
    "\n",
    "СЗ: 6%\n",
    "\n",
    "ФЛ: 13%"
   ]
  },
  {
   "cell_type": "code",
   "execution_count": 1,
   "id": "7cb165cc",
   "metadata": {},
   "outputs": [
    {
     "name": "stdout",
     "output_type": "stream",
     "text": [
      "Кристина Землянова\n"
     ]
    }
   ],
   "source": [
    "name = input()"
   ]
  },
  {
   "cell_type": "code",
   "execution_count": 2,
   "id": "6612aba1",
   "metadata": {},
   "outputs": [
    {
     "data": {
      "text/plain": [
       "'Кристина Землянова'"
      ]
     },
     "execution_count": 2,
     "metadata": {},
     "output_type": "execute_result"
    }
   ],
   "source": [
    "name"
   ]
  },
  {
   "cell_type": "code",
   "execution_count": 9,
   "id": "5d6c520d",
   "metadata": {},
   "outputs": [
    {
     "name": "stdout",
     "output_type": "stream",
     "text": [
      "20\n"
     ]
    }
   ],
   "source": [
    "age = int(input())"
   ]
  },
  {
   "cell_type": "code",
   "execution_count": 5,
   "id": "90c0a43a",
   "metadata": {},
   "outputs": [],
   "source": [
    "#if условия:\n",
    "    #тело условия"
   ]
  },
  {
   "cell_type": "code",
   "execution_count": 15,
   "id": "6767725d",
   "metadata": {},
   "outputs": [
    {
     "name": "stdout",
     "output_type": "stream",
     "text": [
      "добро пожаловать\n"
     ]
    }
   ],
   "source": [
    "if age < 18:\n",
    "        print(\"вам запрещен вход на этот сайт\")\n",
    "else:\n",
    "    print('добро пожаловать')"
   ]
  },
  {
   "cell_type": "code",
   "execution_count": 11,
   "id": "fdd7529f",
   "metadata": {},
   "outputs": [
    {
     "data": {
      "text/plain": [
       "int"
      ]
     },
     "execution_count": 11,
     "metadata": {},
     "output_type": "execute_result"
    }
   ],
   "source": [
    "type(age)"
   ]
  },
  {
   "cell_type": "code",
   "execution_count": 61,
   "id": "e46a5a7f",
   "metadata": {},
   "outputs": [
    {
     "name": "stdout",
     "output_type": "stream",
     "text": [
      "ФЛ\n"
     ]
    }
   ],
   "source": [
    "business_type = input()"
   ]
  },
  {
   "cell_type": "code",
   "execution_count": 70,
   "id": "97725fbf",
   "metadata": {},
   "outputs": [
    {
     "name": "stdout",
     "output_type": "stream",
     "text": [
      "13000\n"
     ]
    }
   ],
   "source": [
    "income = int(input())"
   ]
  },
  {
   "cell_type": "code",
   "execution_count": 65,
   "id": "53025709",
   "metadata": {},
   "outputs": [],
   "source": [
    "zp_sechina = 600000000 // 12"
   ]
  },
  {
   "cell_type": "code",
   "execution_count": 69,
   "id": "e7558661",
   "metadata": {},
   "outputs": [],
   "source": [
    "minimum_income = 14000"
   ]
  },
  {
   "cell_type": "code",
   "execution_count": 73,
   "id": "7db59748",
   "metadata": {},
   "outputs": [
    {
     "name": "stdout",
     "output_type": "stream",
     "text": [
      "Кристина, вы зарегистрированы как ФЛ ваш налог составит 1690, а чистый доход -- 11310 рублей.\n",
      "Кристина, ваша зп меньше прожиточного минимума на 2690.0\n"
     ]
    }
   ],
   "source": [
    "if business_type == 'ИП1':\n",
    "    tax = income * 0.15\n",
    "    net_income = income - tax \n",
    "    print(f'{name.split()[0]}, ваш налог составит {int(tax)}, а чистый доход -- {int(net_income)} рублей.')\n",
    "elif business_type == 'ИП2'or business_type =='СЗ':\n",
    "    tax = income * 0.06\n",
    "    net_income = income - tax \n",
    "    print(f'{name.split()[0]}, вы зарегистрированы как {business_type} ваш налог составит {int(tax)}, а чистый доход -- {int(net_income)} рублей.')\n",
    "else: \n",
    "    tax = income * 0.13\n",
    "    net_income = income - tax \n",
    "    print(f'{name.split()[0]}, вы зарегистрированы как {business_type} ваш налог составит {int(tax)}, а чистый доход -- {int(net_income)} рублей.')\n",
    "    if net_income >= zp_sechina:\n",
    "        print(f' {name.split() [0]}, это, конечно, круто, но будьте осторожны: ваша зп {net_income} больше зп Сечина на {net_income - zp_sechina}')\n",
    "    elif net_income <= minimum_income:\n",
    "        print(f'{name.split()[0]}, ваша зп меньше прожиточного минимума на {minimum_income - net_income}')\n",
    "    else:\n",
    "        print(f'{name.split() [0]}, не парьтесь, ваша зп меньше зп Сечина на {zp_sechina - net_income}')"
   ]
  },
  {
   "cell_type": "code",
   "execution_count": null,
   "id": "3a63b786",
   "metadata": {},
   "outputs": [],
   "source": []
  }
 ],
 "metadata": {
  "kernelspec": {
   "display_name": "Python 3 (ipykernel)",
   "language": "python",
   "name": "python3"
  },
  "language_info": {
   "codemirror_mode": {
    "name": "ipython",
    "version": 3
   },
   "file_extension": ".py",
   "mimetype": "text/x-python",
   "name": "python",
   "nbconvert_exporter": "python",
   "pygments_lexer": "ipython3",
   "version": "3.11.5"
  }
 },
 "nbformat": 4,
 "nbformat_minor": 5
}
