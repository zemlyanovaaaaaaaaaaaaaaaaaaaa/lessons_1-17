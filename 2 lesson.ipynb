{
 "cells": [
  {
   "cell_type": "markdown",
   "id": "6b595b94",
   "metadata": {},
   "source": [
    "# Строки"
   ]
  },
  {
   "cell_type": "markdown",
   "id": "1b3cbb93",
   "metadata": {},
   "source": [
    "Как выглядят строки"
   ]
  },
  {
   "cell_type": "code",
   "execution_count": 1,
   "id": "6ec37f7f",
   "metadata": {},
   "outputs": [],
   "source": [
    "a=\"важные истории\" #строки заключены в кавычки"
   ]
  },
  {
   "cell_type": "code",
   "execution_count": 2,
   "id": "231060c3",
   "metadata": {},
   "outputs": [],
   "source": [
    "b= \"0123456789\""
   ]
  },
  {
   "cell_type": "code",
   "execution_count": 3,
   "id": "225d4347",
   "metadata": {},
   "outputs": [
    {
     "data": {
      "text/plain": [
       "str"
      ]
     },
     "execution_count": 3,
     "metadata": {},
     "output_type": "execute_result"
    }
   ],
   "source": [
    "type(a)"
   ]
  },
  {
   "cell_type": "code",
   "execution_count": 4,
   "id": "a2eba1e6",
   "metadata": {},
   "outputs": [
    {
     "data": {
      "text/plain": [
       "str"
      ]
     },
     "execution_count": 4,
     "metadata": {},
     "output_type": "execute_result"
    }
   ],
   "source": [
    "type(b)"
   ]
  },
  {
   "cell_type": "markdown",
   "id": "9879e581",
   "metadata": {},
   "source": [
    "# Сложение строк"
   ]
  },
  {
   "cell_type": "code",
   "execution_count": 5,
   "id": "7584090d",
   "metadata": {},
   "outputs": [],
   "source": [
    "a= \"важные\"\n",
    "b= \"истории\""
   ]
  },
  {
   "cell_type": "code",
   "execution_count": 7,
   "id": "34ac556e",
   "metadata": {},
   "outputs": [
    {
     "data": {
      "text/plain": [
       "'важныеистории'"
      ]
     },
     "execution_count": 7,
     "metadata": {},
     "output_type": "execute_result"
    }
   ],
   "source": [
    "c=a+b\n",
    "c"
   ]
  },
  {
   "cell_type": "code",
   "execution_count": 8,
   "id": "d4d8cfc5",
   "metadata": {},
   "outputs": [
    {
     "data": {
      "text/plain": [
       "'важные истории'"
      ]
     },
     "execution_count": 8,
     "metadata": {},
     "output_type": "execute_result"
    }
   ],
   "source": [
    "a= \"важные \"\n",
    "b= \"истории\"\n",
    "c=a+b\n",
    "c"
   ]
  },
  {
   "cell_type": "code",
   "execution_count": 12,
   "id": "8dda534a",
   "metadata": {},
   "outputs": [
    {
     "data": {
      "text/plain": [
       "'12'"
      ]
     },
     "execution_count": 12,
     "metadata": {},
     "output_type": "execute_result"
    }
   ],
   "source": [
    "a='1'\n",
    "b='2'\n",
    "c=a+b\n",
    "c"
   ]
  },
  {
   "cell_type": "markdown",
   "id": "a4d7f4b1",
   "metadata": {},
   "source": [
    "# Дублирование строк"
   ]
  },
  {
   "cell_type": "code",
   "execution_count": 14,
   "id": "a493fb98",
   "metadata": {},
   "outputs": [
    {
     "data": {
      "text/plain": [
       "'важные важные важные '"
      ]
     },
     "execution_count": 14,
     "metadata": {},
     "output_type": "execute_result"
    }
   ],
   "source": [
    "a='важные '\n",
    "c=a*3\n",
    "c"
   ]
  },
  {
   "cell_type": "markdown",
   "id": "4810be63",
   "metadata": {},
   "source": [
    "# Длина строк"
   ]
  },
  {
   "cell_type": "code",
   "execution_count": 15,
   "id": "c8b6b308",
   "metadata": {},
   "outputs": [
    {
     "data": {
      "text/plain": [
       "14"
      ]
     },
     "execution_count": 15,
     "metadata": {},
     "output_type": "execute_result"
    }
   ],
   "source": [
    "a='важные истории' #14 символов\n",
    "len(a)"
   ]
  },
  {
   "cell_type": "markdown",
   "id": "b63e68bc",
   "metadata": {},
   "source": [
    "# Индексы"
   ]
  },
  {
   "cell_type": "code",
   "execution_count": 18,
   "id": "0b8a30c7",
   "metadata": {},
   "outputs": [
    {
     "data": {
      "text/plain": [
       "0"
      ]
     },
     "execution_count": 18,
     "metadata": {},
     "output_type": "execute_result"
    }
   ],
   "source": [
    "a.index('в')"
   ]
  },
  {
   "cell_type": "code",
   "execution_count": 20,
   "id": "cd4a5f76",
   "metadata": {},
   "outputs": [
    {
     "data": {
      "text/plain": [
       "'в'"
      ]
     },
     "execution_count": 20,
     "metadata": {},
     "output_type": "execute_result"
    }
   ],
   "source": [
    "a[0]"
   ]
  },
  {
   "cell_type": "code",
   "execution_count": 21,
   "id": "875d5722",
   "metadata": {},
   "outputs": [
    {
     "data": {
      "text/plain": [
       "'а'"
      ]
     },
     "execution_count": 21,
     "metadata": {},
     "output_type": "execute_result"
    }
   ],
   "source": [
    "a[1]"
   ]
  },
  {
   "cell_type": "code",
   "execution_count": 22,
   "id": "32400c7f",
   "metadata": {},
   "outputs": [
    {
     "data": {
      "text/plain": [
       "'р'"
      ]
     },
     "execution_count": 22,
     "metadata": {},
     "output_type": "execute_result"
    }
   ],
   "source": [
    "a[-3]"
   ]
  },
  {
   "cell_type": "markdown",
   "id": "20d2a965",
   "metadata": {},
   "source": [
    "# Извлечение среза"
   ]
  },
  {
   "cell_type": "code",
   "execution_count": 23,
   "id": "d8d7e5a7",
   "metadata": {},
   "outputs": [],
   "source": [
    "#a (x:y) x-индекс 1 символа, y - индекс последнего символа + 1"
   ]
  },
  {
   "cell_type": "code",
   "execution_count": 24,
   "id": "30831197",
   "metadata": {},
   "outputs": [
    {
     "data": {
      "text/plain": [
       "'важные'"
      ]
     },
     "execution_count": 24,
     "metadata": {},
     "output_type": "execute_result"
    }
   ],
   "source": [
    "a[0:6]"
   ]
  },
  {
   "cell_type": "code",
   "execution_count": 26,
   "id": "b9faae14",
   "metadata": {},
   "outputs": [
    {
     "data": {
      "text/plain": [
       "5"
      ]
     },
     "execution_count": 26,
     "metadata": {},
     "output_type": "execute_result"
    }
   ],
   "source": [
    "a.index('е')"
   ]
  },
  {
   "cell_type": "code",
   "execution_count": 27,
   "id": "6523bf52",
   "metadata": {},
   "outputs": [
    {
     "data": {
      "text/plain": [
       "'важные истории'"
      ]
     },
     "execution_count": 27,
     "metadata": {},
     "output_type": "execute_result"
    }
   ],
   "source": [
    "a[:]"
   ]
  },
  {
   "cell_type": "code",
   "execution_count": 28,
   "id": "b3264f7e",
   "metadata": {},
   "outputs": [
    {
     "data": {
      "text/plain": [
       "'истории'"
      ]
     },
     "execution_count": 28,
     "metadata": {},
     "output_type": "execute_result"
    }
   ],
   "source": [
    "a[7:]"
   ]
  },
  {
   "cell_type": "markdown",
   "id": "7bb52304",
   "metadata": {},
   "source": [
    "# Шаг среза"
   ]
  },
  {
   "cell_type": "code",
   "execution_count": 1,
   "id": "8adcb02e",
   "metadata": {},
   "outputs": [],
   "source": [
    "a='012345678'"
   ]
  },
  {
   "cell_type": "code",
   "execution_count": 2,
   "id": "4e63630a",
   "metadata": {},
   "outputs": [
    {
     "data": {
      "text/plain": [
       "'02468'"
      ]
     },
     "execution_count": 2,
     "metadata": {},
     "output_type": "execute_result"
    }
   ],
   "source": [
    "a[0:10:2]"
   ]
  },
  {
   "cell_type": "markdown",
   "id": "df159fe5",
   "metadata": {},
   "source": [
    "# Замена шаблона"
   ]
  },
  {
   "cell_type": "code",
   "execution_count": 3,
   "id": "c2e5579b",
   "metadata": {},
   "outputs": [],
   "source": [
    "a=\"важные истории\""
   ]
  },
  {
   "cell_type": "code",
   "execution_count": 4,
   "id": "2463f352",
   "metadata": {},
   "outputs": [
    {
     "data": {
      "text/plain": [
       "'грустные истории'"
      ]
     },
     "execution_count": 4,
     "metadata": {},
     "output_type": "execute_result"
    }
   ],
   "source": [
    "b=a.replace('важные', 'грустные')\n",
    "b"
   ]
  },
  {
   "cell_type": "markdown",
   "id": "00bf447e",
   "metadata": {},
   "source": [
    "# Изменение регистра"
   ]
  },
  {
   "cell_type": "code",
   "execution_count": 6,
   "id": "0f967175",
   "metadata": {},
   "outputs": [
    {
     "data": {
      "text/plain": [
       "'ВАЖНЫЕ ИСТОРИИ'"
      ]
     },
     "execution_count": 6,
     "metadata": {},
     "output_type": "execute_result"
    }
   ],
   "source": [
    "b=a.upper()\n",
    "b"
   ]
  },
  {
   "cell_type": "code",
   "execution_count": 7,
   "id": "9c503ec2",
   "metadata": {},
   "outputs": [
    {
     "data": {
      "text/plain": [
       "'важные истории'"
      ]
     },
     "execution_count": 7,
     "metadata": {},
     "output_type": "execute_result"
    }
   ],
   "source": [
    "c=b.lower()\n",
    "c"
   ]
  },
  {
   "cell_type": "markdown",
   "id": "ad1cda8a",
   "metadata": {},
   "source": [
    "# Разделение строк"
   ]
  },
  {
   "cell_type": "code",
   "execution_count": 8,
   "id": "73b24772",
   "metadata": {},
   "outputs": [
    {
     "data": {
      "text/plain": [
       "['важные', 'истории']"
      ]
     },
     "execution_count": 8,
     "metadata": {},
     "output_type": "execute_result"
    }
   ],
   "source": [
    "b=a.split()\n",
    "b"
   ]
  },
  {
   "cell_type": "code",
   "execution_count": 9,
   "id": "e82d208c",
   "metadata": {},
   "outputs": [
    {
     "data": {
      "text/plain": [
       "['в.а.ж.н.ы.е.']"
      ]
     },
     "execution_count": 9,
     "metadata": {},
     "output_type": "execute_result"
    }
   ],
   "source": [
    "a='в.а.ж.н.ы.е.'\n",
    "b=a.split()\n",
    "b"
   ]
  },
  {
   "cell_type": "code",
   "execution_count": 11,
   "id": "8bb3c056",
   "metadata": {},
   "outputs": [
    {
     "data": {
      "text/plain": [
       "['в', 'а', 'ж', 'н', 'ы', 'е', '']"
      ]
     },
     "execution_count": 11,
     "metadata": {},
     "output_type": "execute_result"
    }
   ],
   "source": [
    "b=a.split('.')\n",
    "b"
   ]
  },
  {
   "cell_type": "code",
   "execution_count": 12,
   "id": "fa19bdd9",
   "metadata": {},
   "outputs": [
    {
     "data": {
      "text/plain": [
       "list"
      ]
     },
     "execution_count": 12,
     "metadata": {},
     "output_type": "execute_result"
    }
   ],
   "source": [
    "type(b)"
   ]
  },
  {
   "cell_type": "code",
   "execution_count": null,
   "id": "edd2b80a",
   "metadata": {},
   "outputs": [],
   "source": []
  }
 ],
 "metadata": {
  "kernelspec": {
   "display_name": "Python 3 (ipykernel)",
   "language": "python",
   "name": "python3"
  },
  "language_info": {
   "codemirror_mode": {
    "name": "ipython",
    "version": 3
   },
   "file_extension": ".py",
   "mimetype": "text/x-python",
   "name": "python",
   "nbconvert_exporter": "python",
   "pygments_lexer": "ipython3",
   "version": "3.11.5"
  }
 },
 "nbformat": 4,
 "nbformat_minor": 5
}
